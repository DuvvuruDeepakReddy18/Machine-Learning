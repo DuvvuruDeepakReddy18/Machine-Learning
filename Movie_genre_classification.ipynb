{
  "nbformat": 4,
  "nbformat_minor": 0,
  "metadata": {
    "colab": {
      "provenance": []
    },
    "kernelspec": {
      "name": "python3",
      "display_name": "Python 3"
    },
    "language_info": {
      "name": "python"
    }
  },
  "cells": [
    {
      "cell_type": "code",
      "source": [
        "import pandas as pd\n",
        "from sklearn.model_selection import train_test_split\n",
        "from sklearn.feature_extraction.text import TfidfVectorizer\n",
        "from sklearn.linear_model import LogisticRegression\n",
        "from sklearn.metrics import classification_report\n",
        "\n",
        "data = []\n",
        "with open(\"/content/train_data.txt\", encoding=\"utf-8\") as f:\n",
        "    for line in f:\n",
        "        parts = line.strip().split(\" ::: \")\n",
        "        if len(parts) == 4:\n",
        "            _id, title, genre, plot = parts\n",
        "            data.append({\"id\": _id, \"title\": title, \"genre\": genre, \"plot\": plot})\n",
        "\n",
        "df = pd.DataFrame(data)\n",
        "print(\"Sample rows:\\n\", df.head())\n",
        "\n",
        "df = df.dropna(subset=[\"plot\", \"genre\"])\n",
        "\n",
        "X = df[\"plot\"]\n",
        "y = df[\"genre\"]\n",
        "\n",
        "vectorizer = TfidfVectorizer(stop_words=\"english\", max_features=5000)\n",
        "X_vec = vectorizer.fit_transform(X)\n",
        "\n",
        "X_train, X_test, y_train, y_test = train_test_split(X_vec, y, test_size=0.2, random_state=42)\n",
        "\n",
        "model = LogisticRegression(max_iter=1000)\n",
        "model.fit(X_train, y_train)\n",
        "\n",
        "y_pred = model.predict(X_test)\n",
        "print(\"\\nModel Performance:\\n\")\n",
        "print(classification_report(y_test, y_pred))\n"
      ],
      "metadata": {
        "colab": {
          "base_uri": "https://localhost:8080/"
        },
        "id": "wL0Uejqb_LS-",
        "outputId": "64dbe09b-3c3f-4971-ca35-058979bab1cc"
      },
      "execution_count": 8,
      "outputs": [
        {
          "output_type": "stream",
          "name": "stdout",
          "text": [
            "Sample rows:\n",
            "   id                             title     genre  \\\n",
            "0  1      Oscar et la dame rose (2009)     drama   \n",
            "1  2                      Cupid (1997)  thriller   \n",
            "2  3  Young, Wild and Wonderful (1980)     adult   \n",
            "3  4             The Secret Sin (1915)     drama   \n",
            "4  5            The Unrecovered (2007)     drama   \n",
            "\n",
            "                                                plot  \n",
            "0  Listening in to a conversation between his doc...  \n",
            "1  A brother and sister with a past incestuous re...  \n",
            "2  As the bus empties the students for their fiel...  \n",
            "3  To help their unemployed father make ends meet...  \n",
            "4  The film's title refers not only to the un-rec...  \n",
            "\n",
            "Model Performance:\n",
            "\n",
            "              precision    recall  f1-score   support\n",
            "\n",
            "      action       0.51      0.25      0.34       263\n",
            "       adult       0.75      0.21      0.33       112\n",
            "   adventure       0.42      0.14      0.21       139\n",
            "   animation       0.60      0.09      0.15       104\n",
            "   biography       0.00      0.00      0.00        61\n",
            "      comedy       0.51      0.59      0.55      1443\n",
            "       crime       0.29      0.02      0.04       107\n",
            " documentary       0.66      0.85      0.74      2659\n",
            "       drama       0.54      0.78      0.64      2697\n",
            "      family       0.39      0.07      0.12       150\n",
            "     fantasy       0.00      0.00      0.00        74\n",
            "   game-show       0.94      0.42      0.59        40\n",
            "     history       0.00      0.00      0.00        45\n",
            "      horror       0.64      0.56      0.60       431\n",
            "       music       0.62      0.47      0.54       144\n",
            "     musical       1.00      0.02      0.04        50\n",
            "     mystery       0.00      0.00      0.00        56\n",
            "        news       1.00      0.06      0.11        34\n",
            "  reality-tv       0.47      0.18      0.26       192\n",
            "     romance       0.17      0.01      0.01       151\n",
            "      sci-fi       0.57      0.22      0.31       143\n",
            "       short       0.48      0.33      0.39      1045\n",
            "       sport       0.58      0.19      0.29        93\n",
            "   talk-show       0.62      0.12      0.21        81\n",
            "    thriller       0.39      0.14      0.21       309\n",
            "         war       0.00      0.00      0.00        20\n",
            "     western       0.95      0.70      0.81       200\n",
            "\n",
            "    accuracy                           0.58     10843\n",
            "   macro avg       0.49      0.24      0.28     10843\n",
            "weighted avg       0.55      0.58      0.54     10843\n",
            "\n"
          ]
        },
        {
          "output_type": "stream",
          "name": "stderr",
          "text": [
            "/usr/local/lib/python3.11/dist-packages/sklearn/metrics/_classification.py:1565: UndefinedMetricWarning: Precision is ill-defined and being set to 0.0 in labels with no predicted samples. Use `zero_division` parameter to control this behavior.\n",
            "  _warn_prf(average, modifier, f\"{metric.capitalize()} is\", len(result))\n",
            "/usr/local/lib/python3.11/dist-packages/sklearn/metrics/_classification.py:1565: UndefinedMetricWarning: Precision is ill-defined and being set to 0.0 in labels with no predicted samples. Use `zero_division` parameter to control this behavior.\n",
            "  _warn_prf(average, modifier, f\"{metric.capitalize()} is\", len(result))\n",
            "/usr/local/lib/python3.11/dist-packages/sklearn/metrics/_classification.py:1565: UndefinedMetricWarning: Precision is ill-defined and being set to 0.0 in labels with no predicted samples. Use `zero_division` parameter to control this behavior.\n",
            "  _warn_prf(average, modifier, f\"{metric.capitalize()} is\", len(result))\n"
          ]
        }
      ]
    },
    {
      "cell_type": "code",
      "source": [],
      "metadata": {
        "id": "NWIoNKG7_3M6"
      },
      "execution_count": null,
      "outputs": []
    }
  ]
}